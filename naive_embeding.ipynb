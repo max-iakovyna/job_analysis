{
 "cells": [
  {
   "cell_type": "markdown",
   "metadata": {},
   "source": [
    "### Load dala from files"
   ]
  },
  {
   "cell_type": "code",
   "execution_count": 1,
   "metadata": {
    "collapsed": false
   },
   "outputs": [
    {
     "data": {
      "text/plain": [
       "955"
      ]
     },
     "execution_count": 1,
     "metadata": {},
     "output_type": "execute_result"
    }
   ],
   "source": [
    "import os\n",
    "import json\n",
    "\n",
    "FILE_PATH = 'data/glassdoor_us/'\n",
    "\n",
    "def get_body(path):\n",
    "    return json.load(open(path, 'r'))['body']\n",
    "\n",
    "data = [get_body(FILE_PATH + file) for file in os.listdir(FILE_PATH) if file[-4:] == 'json']\n",
    "\n",
    "N_DOCUMENTS = len(data)\n",
    "N_DOCUMENTS"
   ]
  },
  {
   "cell_type": "markdown",
   "metadata": {},
   "source": [
    "### Load buzzword dictionary"
   ]
  },
  {
   "cell_type": "code",
   "execution_count": 2,
   "metadata": {
    "collapsed": false
   },
   "outputs": [],
   "source": [
    "buzz_words = {}\n",
    "for raw_line in open('java_buzzwords.txt', 'r'):\n",
    "    line = raw_line.strip().lower()\n",
    "    \n",
    "    # skip empty line or comment\n",
    "    if len(line) == 0 or line[0] == '#':\n",
    "        continue\n",
    "    \n",
    "    # add synnonyms to dictionary\n",
    "    tokens = line.split('|')\n",
    "    label = tokens[0]\n",
    "    for key in tokens:\n",
    "        buzz_words[key] = label\n",
    "        "
   ]
  },
  {
   "cell_type": "markdown",
   "metadata": {},
   "source": [
    "### Find buzzwords in documents"
   ]
  },
  {
   "cell_type": "code",
   "execution_count": 3,
   "metadata": {
    "collapsed": false
   },
   "outputs": [],
   "source": [
    "from nltk.tokenize import RegexpTokenizer\n",
    "\n",
    "tokenizer = RegexpTokenizer(r'[\\w\\-\\#\\+]+')\n",
    "buzzword_keys = set(buzz_words.keys())\n",
    "\n",
    "def replace_ngrams(doc):\n",
    "    result = doc\n",
    "    for key, value in buzz_words.items():\n",
    "        if ' ' in key and key in result:\n",
    "            result = result.replace(key, value)\n",
    "            \n",
    "    return result\n",
    "\n",
    "def find_buzzwords(doc):\n",
    "    doc = replace_ngrams(doc)\n",
    "    result = [buzz_words[token] for token in tokenizer.tokenize(doc.lower()) if token in buzzword_keys]\n",
    "    return list(set(result))\n",
    "\n",
    "buzzwords = [find_buzzwords(doc) for doc in data]"
   ]
  },
  {
   "cell_type": "markdown",
   "metadata": {},
   "source": [
    "### Built co-occurrance matrix"
   ]
  },
  {
   "cell_type": "code",
   "execution_count": 4,
   "metadata": {
    "collapsed": false
   },
   "outputs": [
    {
     "data": {
      "text/plain": [
       "(60, 60)"
      ]
     },
     "execution_count": 4,
     "metadata": {},
     "output_type": "execute_result"
    }
   ],
   "source": [
    "from sklearn.feature_extraction.text import CountVectorizer\n",
    "import numpy as np\n",
    "\n",
    "vectorizer = CountVectorizer(\n",
    "    min_df=0.025, \n",
    "    tokenizer=lambda x: x,\n",
    "    preprocessor=lambda x: x\n",
    ")\n",
    "X = vectorizer.fit_transform(buzzwords)\n",
    "\n",
    "ccrs_X = np.dot(X.T, X)\n",
    "ccrs_X.shape"
   ]
  },
  {
   "cell_type": "markdown",
   "metadata": {},
   "source": [
    "### Co-occurrance matrix to distance matrix"
   ]
  },
  {
   "cell_type": "code",
   "execution_count": 5,
   "metadata": {
    "collapsed": false
   },
   "outputs": [],
   "source": [
    "distances = np.zeros(ccrs_X.shape)\n",
    "\n",
    "for i in range(0, ccrs_X.shape[0]):\n",
    "    for j in range(i + 1, ccrs_X.shape[1]):\n",
    "        d = 1.0 - ccrs_X[j, i] / max(ccrs_X[i, i], ccrs_X[j, j], 1)\n",
    "        d = d ** 2\n",
    "        distances[j, i] = d\n",
    "        distances[i, j] = d\n",
    "        "
   ]
  },
  {
   "cell_type": "code",
   "execution_count": 6,
   "metadata": {
    "collapsed": false
   },
   "outputs": [
    {
     "data": {
      "image/png": "[encoded data removed]",
      "text/plain": [
       "<matplotlib.figure.Figure at 0x10f967588>"
      ]
     },
     "metadata": {},
     "output_type": "display_data"
    }
   ],
   "source": [
    "import matplotlib.pyplot as plt\n",
    "%matplotlib inline\n",
    "plt.imshow(distances, cmap='hot', interpolation='nearest')\n",
    "plt.show()"
   ]
  },
  {
   "cell_type": "markdown",
   "metadata": {},
   "source": [
    "### Turn distance matrix in to coordinate, by applying MDS"
   ]
  },
  {
   "cell_type": "code",
   "execution_count": 7,
   "metadata": {
    "collapsed": false
   },
   "outputs": [
    {
     "name": "stderr",
     "output_type": "stream",
     "text": [
      "/usr/local/Cellar/python3/3.5.0/Frameworks/Python.framework/Versions/3.5/lib/python3.5/site-packages/sklearn/manifold/mds.py:411: UserWarning: The MDS API has changed. ``fit`` now constructs an dissimilarity matrix from data. To use a custom dissimilarity matrix, set ``dissimilarity='precomputed'``.\n",
      "  warnings.warn(\"The MDS API has changed. ``fit`` now constructs an\"\n"
     ]
    }
   ],
   "source": [
    "from sklearn.manifold import MDS\n",
    "\n",
    "embedding = MDS(n_components=2, n_init=100, max_iter=1000, n_jobs=4)\n",
    "coordinates_2d = embedding.fit_transform(distances)"
   ]
  },
  {
   "cell_type": "markdown",
   "metadata": {},
   "source": [
    "### Do clustering to emphasise different specialities"
   ]
  },
  {
   "cell_type": "code",
   "execution_count": 15,
   "metadata": {
    "collapsed": false
   },
   "outputs": [],
   "source": [
    "from sklearn.cluster import KMeans\n",
    "\n",
    "clusters = KMeans(n_clusters=3, n_jobs=4).fit(coordinates_2d).labels_"
   ]
  },
  {
   "cell_type": "markdown",
   "metadata": {},
   "source": [
    "### Plot it"
   ]
  },
  {
   "cell_type": "code",
   "execution_count": 18,
   "metadata": {
    "collapsed": false
   },
   "outputs": [],
   "source": [
    "import matplotlib.pyplot as plt\n",
    "%matplotlib osx\n",
    "#%matplotlib inline\n",
    "\n",
    "def occurance_prctg(i, coocurance_matrix, n_documents):\n",
    "    return coocurance_matrix[i, i] / float(n_documents)\n",
    "\n",
    "def font_size(prctg):\n",
    "    return 12 + int(prctg * 10)\n",
    "\n",
    "cluster_color = ['#722596', '#E26B2F', '#266391']\n",
    "\n",
    "plt.figure(num=None, figsize=(15, 15), dpi=80, facecolor='w', edgecolor='k')\n",
    "\n",
    "labels = vectorizer.get_feature_names()\n",
    "\n",
    "for i, label in enumerate(labels):\n",
    "    \n",
    "    occ = occurance_prctg(i, ccrs_X, N_DOCUMENTS)\n",
    "    \n",
    "    color = cluster_color[clusters[i]]\n",
    "\n",
    "    x = coordinates_2d[:, 0][i]\n",
    "    y = coordinates_2d[:, 1][i]\n",
    "    plt.scatter(x, y, s=750*occ, marker='o', edgecolor=color, facecolors='none')\n",
    "    plt.text(x + 0.04, y + 0.04, label, fontsize=font_size(occ), color=color)\n",
    "plt.show()"
   ]
  },
  {
   "cell_type": "code",
   "execution_count": 10,
   "metadata": {
    "collapsed": false
   },
   "outputs": [
    {
     "data": {
      "text/plain": [
       "\"\\nfrom mpl_toolkits.mplot3d import Axes3D\\n%matplotlib osx\\n#%matplotlib inline\\n\\nfig = plt.figure(num=None, figsize=(10, 10), dpi=80, facecolor='w', edgecolor='k')\\nax = Axes3D(fig)\\n\\nembedding = MDS(n_components=3, n_init=20, max_iter=500, n_jobs=4)\\ncoordinates_3d = embedding.fit_transform(distances)\\ncoordinates_3d\\n\\nlabels = vectorizer.get_feature_names()\\n\\nfor i, label in enumerate(labels):\\n    \\n    occ = occurance_prctg(i, ccrs_X, N_DOCUMENTS)\\n    if occ < 0.05:\\n        continue\\n    \\n    x = coordinates_3d[:, 0][i]\\n    y = coordinates_3d[:, 1][i]\\n    z = coordinates_3d[:, 2][i]\\n    ax.scatter(x, y, z, marker='x', color='red')\\n    ax.text(x + 0.01, y + 0.01, z + 0.01, label, fontsize=15)\\nplt.show()\\n\""
      ]
     },
     "execution_count": 10,
     "metadata": {},
     "output_type": "execute_result"
    }
   ],
   "source": [
    "'''\n",
    "from mpl_toolkits.mplot3d import Axes3D\n",
    "%matplotlib osx\n",
    "#%matplotlib inline\n",
    "\n",
    "fig = plt.figure(num=None, figsize=(10, 10), dpi=80, facecolor='w', edgecolor='k')\n",
    "ax = Axes3D(fig)\n",
    "\n",
    "embedding = MDS(n_components=3, n_init=20, max_iter=500, n_jobs=4)\n",
    "coordinates_3d = embedding.fit_transform(distances)\n",
    "coordinates_3d\n",
    "\n",
    "labels = vectorizer.get_feature_names()\n",
    "\n",
    "for i, label in enumerate(labels):\n",
    "    \n",
    "    occ = occurance_prctg(i, ccrs_X, N_DOCUMENTS)\n",
    "    if occ < 0.05:\n",
    "        continue\n",
    "    \n",
    "    x = coordinates_3d[:, 0][i]\n",
    "    y = coordinates_3d[:, 1][i]\n",
    "    z = coordinates_3d[:, 2][i]\n",
    "    ax.scatter(x, y, z, marker='x', color='red')\n",
    "    ax.text(x + 0.01, y + 0.01, z + 0.01, label, fontsize=15)\n",
    "plt.show()\n",
    "'''\n"
   ]
  },
  {
   "cell_type": "code",
   "execution_count": null,
   "metadata": {
    "collapsed": true
   },
   "outputs": [],
   "source": []
  }
 ],
 "metadata": {
  "kernelspec": {
   "display_name": "Python 3",
   "language": "python",
   "name": "python3"
  },
  "language_info": {
   "codemirror_mode": {
    "name": "ipython",
    "version": 3
   },
   "file_extension": ".py",
   "mimetype": "text/x-python",
   "name": "python",
   "nbconvert_exporter": "python",
   "pygments_lexer": "ipython3",
   "version": "3.5.0"
  }
 },
 "nbformat": 4,
 "nbformat_minor": 0
}
